{
 "cells": [
  {
   "cell_type": "code",
   "execution_count": 1,
   "id": "initial_id",
   "metadata": {
    "collapsed": true,
    "ExecuteTime": {
     "end_time": "2024-09-03T14:07:30.219443434Z",
     "start_time": "2024-09-03T14:07:30.216299207Z"
    }
   },
   "outputs": [],
   "source": [
    "import numpy as np\n",
    "import pandas as pd\n",
    "from glob import glob\n",
    "import os\n",
    "import re"
   ]
  },
  {
   "cell_type": "code",
   "execution_count": 2,
   "outputs": [],
   "source": [
    "model_dict = {\"LoraInterp\": \"lora\",\n",
    "              \"LoraCNInterp\": \"cn\",\n",
    "              \"AnimeInterp\": \"aninterp\"}\n",
    "\n",
    "def get_model_abr(model):\n",
    "    try:\n",
    "        return model_dict[model]\n",
    "    except:\n",
    "        return None"
   ],
   "metadata": {
    "collapsed": false,
    "ExecuteTime": {
     "end_time": "2024-09-03T14:07:30.242634559Z",
     "start_time": "2024-09-03T14:07:30.219035780Z"
    }
   },
   "id": "6aafc1662386d25a"
  },
  {
   "cell_type": "code",
   "execution_count": 3,
   "outputs": [],
   "source": [
    "root_path = \"/cs/labs/danix/nadav_al/AnimeInterp/experiments/outputs\""
   ],
   "metadata": {
    "collapsed": false,
    "ExecuteTime": {
     "end_time": "2024-09-03T14:07:30.252122034Z",
     "start_time": "2024-09-03T14:07:30.243844692Z"
    }
   },
   "id": "ee7547b32ef51504"
  },
  {
   "cell_type": "code",
   "execution_count": 4,
   "outputs": [],
   "source": [
    "ckpts = {\"1200\": 0, \"2300\": 1}"
   ],
   "metadata": {
    "collapsed": false,
    "ExecuteTime": {
     "end_time": "2024-09-03T14:07:30.262019855Z",
     "start_time": "2024-09-03T14:07:30.249476494Z"
    }
   },
   "id": "e6eede4a491ed15f"
  },
  {
   "cell_type": "code",
   "execution_count": 5,
   "outputs": [],
   "source": [
    "def extract_rank(string):\n",
    "    pattern = r'rk(\\d+)'\n",
    "    match = re.search(pattern, string)\n",
    "    if match:\n",
    "        return \"rk\", match.group(1)\n",
    "    else:\n",
    "        return None, None"
   ],
   "metadata": {
    "collapsed": false,
    "ExecuteTime": {
     "end_time": "2024-09-03T14:07:30.299471675Z",
     "start_time": "2024-09-03T14:07:30.299104320Z"
    }
   },
   "id": "414c7efdca5fb2f0"
  },
  {
   "cell_type": "code",
   "execution_count": 36,
   "outputs": [],
   "source": [
    "def read_dataframe(path):\n",
    "    df = pd.read_csv(path)\n",
    "    df.drop(['Unnamed: 0'], axis=1, inplace=True)\n",
    "    return df"
   ],
   "metadata": {
    "collapsed": false,
    "ExecuteTime": {
     "end_time": "2024-09-03T14:17:28.404857651Z",
     "start_time": "2024-09-03T14:17:28.363943010Z"
    }
   },
   "id": "bf627c122daf2f40"
  },
  {
   "cell_type": "code",
   "execution_count": 37,
   "outputs": [],
   "source": [
    "def init_dataframes():\n",
    "    dictionary = { \n",
    "        \"aiw\": {\"lora\": {\"both\": [None, None], \"latents\": [None, None], \"result\": [None, None]},\n",
    "               \"cn\": {\"both\": [None, None], \"latents\": [None, None]},\n",
    "               \"aninterp\": [None],\n",
    "               },\n",
    "        \"aot\": {\"lora\": {\"both\": [None, None], \"latents\": [None, None], \"result\": [None, None]},\n",
    "               \"cn\": {\"both\": [None, None], \"latents\": [None, None]},\n",
    "               \"aninterp\": [None],\n",
    "               },\n",
    "        \"lk\": {\"lora\": {\"both\": [None, None], \"latents\": [None, None], \"result\": [None, None]},\n",
    "              \"cn\": {\"both\": [None, None], \"latents\": [None, None]},\n",
    "              \"aninterp\": [None],\n",
    "              },\n",
    "        \"sat\": {\"lora\": {\"both\": [None, None], \"latents\": [None, None], \"result\": [None, None]},\n",
    "               \"cn\": {\"both\": [None, None], \"latents\": [None, None]},\n",
    "               \"aninterp\": [None],\n",
    "               },\n",
    "        \"up\": {\"lora\": {\"both\": [None, None], \"latents\": [None, None], \"result\": [None, None]},\n",
    "              \"cn\": {\"both\": [None, None], \"latents\": [None, None]},\n",
    "              \"aninterp\": [None],\n",
    "              },\n",
    "    }\n",
    "    for movie in os.listdir(root_path):\n",
    "        if not movie.lower() in dictionary.keys():\n",
    "            continue\n",
    "        print(movie)\n",
    "        movie_path = os.path.join(root_path, movie)\n",
    "        for model in os.listdir(movie_path):\n",
    "            model_abr = get_model_abr(model)\n",
    "            if not model_abr: continue\n",
    "            elif model_abr == \"lora\" or model_abr == \"cn\":\n",
    "                model_path = os.path.join(movie_path, model)\n",
    "                for type in os.listdir(model_path):\n",
    "                    type_path = os.path.join(model_path, type)\n",
    "                    for ckpt in os.listdir(type_path):\n",
    "                        ckpt_path = os.path.join(type_path, ckpt)\n",
    "                        for test in os.listdir(ckpt_path):\n",
    "                            _, rank_number = extract_rank(test)\n",
    "                            psnr_path = os.path.join(ckpt_path, test, \"psnr.csv\")\n",
    "                            if os.path.exists(psnr_path):\n",
    "                                df = read_dataframe(psnr_path)\n",
    "                                print(movie.lower(), model_abr, type)\n",
    "                                if dictionary[movie.lower()][model_abr][type][ckpts[ckpt]] is None:\n",
    "                                    dictionary[movie.lower()][model_abr][type][ckpts[ckpt]] = {}\n",
    "                                dictionary[movie.lower()][model_abr][type][ckpts[ckpt]][rank_number] = df\n",
    "            else:\n",
    "                model_path = os.path.join(movie_path, model)\n",
    "                psnr_path = os.path.join(model_path, \"psnr.csv\")\n",
    "                if os.path.exists(psnr_path):\n",
    "                    df = pd.read_csv(psnr_path)\n",
    "                    if dictionary[movie.lower()][model] is None:\n",
    "                        dictionary[movie.lower()][model] = []\n",
    "                    dictionary[movie.lower()][model].append(df)\n",
    "    return dictionary"
   ],
   "metadata": {
    "collapsed": false,
    "ExecuteTime": {
     "end_time": "2024-09-03T14:17:31.298629875Z",
     "start_time": "2024-09-03T14:17:31.296223818Z"
    }
   },
   "id": "d54040c9a4f627a1"
  },
  {
   "cell_type": "code",
   "execution_count": 38,
   "outputs": [
    {
     "name": "stdout",
     "output_type": "stream",
     "text": [
      "AIW\n",
      "aiw lora latents\n",
      "aiw lora latents\n",
      "aiw lora latents\n",
      "aiw lora latents\n",
      "aiw lora both\n",
      "aiw lora both\n",
      "aiw lora both\n",
      "aiw lora both\n",
      "aiw lora result\n",
      "aiw lora result\n",
      "aiw lora result\n",
      "aiw lora result\n",
      "aiw cn latents\n",
      "aiw cn latents\n",
      "aiw cn latents\n",
      "aiw cn latents\n",
      "aiw cn both\n",
      "aiw cn both\n",
      "aiw cn both\n",
      "aiw cn both\n",
      "SAT\n",
      "LK\n",
      "lk lora latents\n",
      "lk lora latents\n",
      "lk lora latents\n",
      "lk lora latents\n",
      "lk lora both\n",
      "lk lora both\n",
      "lk lora both\n",
      "lk lora both\n",
      "lk lora both\n",
      "lk lora result\n",
      "lk lora result\n",
      "lk lora result\n",
      "lk lora result\n",
      "lk cn latents\n",
      "lk cn latents\n",
      "lk cn latents\n",
      "lk cn both\n",
      "lk cn both\n",
      "lk cn both\n",
      "AoT\n",
      "aot lora latents\n",
      "aot lora latents\n",
      "aot lora latents\n",
      "aot lora latents\n",
      "aot lora latents\n",
      "aot lora latents\n",
      "aot lora both\n",
      "aot lora both\n",
      "aot lora both\n",
      "aot lora both\n",
      "aot lora both\n",
      "aot lora both\n",
      "aot lora result\n",
      "aot lora result\n",
      "aot lora result\n",
      "aot lora result\n",
      "aot lora result\n",
      "aot lora result\n",
      "aot cn latents\n",
      "aot cn latents\n",
      "aot cn latents\n",
      "aot cn latents\n",
      "aot cn latents\n",
      "aot cn latents\n",
      "aot cn latents\n",
      "aot cn both\n",
      "aot cn both\n",
      "aot cn both\n",
      "aot cn both\n",
      "aot cn both\n",
      "aot cn both\n",
      "aot cn both\n"
     ]
    }
   ],
   "source": [
    "dic = init_dataframes()"
   ],
   "metadata": {
    "collapsed": false,
    "ExecuteTime": {
     "end_time": "2024-09-03T14:17:35.631319372Z",
     "start_time": "2024-09-03T14:17:35.020772306Z"
    }
   },
   "id": "e8de63cf114870d8"
  },
  {
   "cell_type": "code",
   "execution_count": 39,
   "outputs": [
    {
     "data": {
      "text/plain": "{'aiw': {'lora': {'both': [None,\n    {'10':      ValidIndex    Frame_2\n     0             0  23.896101\n     1             1  22.849476\n     2             2  24.692820\n     3             3  27.059944\n     4             4  23.434177\n     ..          ...        ...\n     313         313  24.161921\n     314         314  24.814209\n     315         315  24.005455\n     316         316  22.238606\n     317         317  26.015236\n     \n     [318 rows x 2 columns],\n     '4':      ValidIndex    Frame_2\n     0             0  23.947071\n     1             1  22.725559\n     2             2  24.739944\n     3             3  26.802245\n     4             4  23.683396\n     ..          ...        ...\n     313         313  24.302889\n     314         314  24.819784\n     315         315  23.859154\n     316         316  22.267739\n     317         317  26.319332\n     \n     [318 rows x 2 columns],\n     '6':      ValidIndex    Frame_2\n     0             0  24.059000\n     1             1  22.829005\n     2             2  24.567886\n     3             3  26.938783\n     4             4  23.573691\n     ..          ...        ...\n     313         313  24.228814\n     314         314  24.562989\n     315         315  24.052832\n     316         316  22.191922\n     317         317  26.013085\n     \n     [318 rows x 2 columns],\n     '8':      ValidIndex    Frame_2\n     0             0  23.991410\n     1             1  22.801323\n     2             2  24.620735\n     3             3  27.100834\n     4             4  23.533666\n     ..          ...        ...\n     313         313  24.086695\n     314         314  24.845256\n     315         315  24.008678\n     316         316  22.328410\n     317         317  26.297870\n     \n     [318 rows x 2 columns]}],\n   'latents': [None,\n    {'10':      ValidIndex    Frame_2\n     0             0  25.437583\n     1             1  23.761834\n     2             2  25.965247\n     3             3  30.448577\n     4             4  25.706875\n     ..          ...        ...\n     313         313  26.770388\n     314         314  26.651705\n     315         315  25.578033\n     316         316  23.708557\n     317         317  28.194723\n     \n     [318 rows x 2 columns],\n     '4':      ValidIndex    Frame_2\n     0             0  25.483158\n     1             1  23.724423\n     2             2  25.944828\n     3             3  30.423027\n     4             4  25.728253\n     ..          ...        ...\n     313         313  26.721292\n     314         314  26.450747\n     315         315  25.518299\n     316         316  23.781627\n     317         317  28.256970\n     \n     [318 rows x 2 columns],\n     '6':      ValidIndex    Frame_2\n     0             0  25.423189\n     1             1  23.723263\n     2             2  25.938629\n     3             3  30.388659\n     4             4  25.657425\n     ..          ...        ...\n     313         313  26.868562\n     314         314  26.546028\n     315         315  25.585727\n     316         316  23.727153\n     317         317  28.039640\n     \n     [318 rows x 2 columns],\n     '8':      ValidIndex    Frame_2\n     0             0  25.450169\n     1             1  23.698852\n     2             2  25.926298\n     3             3  30.281552\n     4             4  25.699383\n     ..          ...        ...\n     313         313  26.718797\n     314         314  26.581973\n     315         315  25.588174\n     316         316  23.784668\n     317         317  28.140932\n     \n     [318 rows x 2 columns]}],\n   'result': [None,\n    {'10':      ValidIndex    Frame_2\n     0             0  23.582709\n     1             1  22.508498\n     2             2  24.740407\n     3             3  27.527960\n     4             4  23.596812\n     ..          ...        ...\n     313         313  24.668188\n     314         314  24.529990\n     315         315  24.292769\n     316         316  21.904991\n     317         317  26.011400\n     \n     [318 rows x 2 columns],\n     '4':      ValidIndex    Frame_2\n     0             0  23.755372\n     1             1  22.630154\n     2             2  24.699904\n     3             3  27.699298\n     4             4  23.495859\n     ..          ...        ...\n     313         313  24.833757\n     314         314  24.634039\n     315         315  24.165008\n     316         316  21.920394\n     317         317  25.817965\n     \n     [318 rows x 2 columns],\n     '6':      ValidIndex    Frame_2\n     0             0  23.530568\n     1             1  22.672073\n     2             2  24.768923\n     3             3  27.552495\n     4             4  23.654978\n     ..          ...        ...\n     313         313  24.752013\n     314         314  24.671253\n     315         315  24.312536\n     316         316  22.019205\n     317         317  26.119182\n     \n     [318 rows x 2 columns],\n     '8':      ValidIndex    Frame_2\n     0             0  23.537789\n     1             1  22.408444\n     2             2  24.743228\n     3             3  27.724113\n     4             4  23.595570\n     ..          ...        ...\n     313         313  24.662027\n     314         314  24.616146\n     315         315  24.194371\n     316         316  22.114404\n     317         317  25.819247\n     \n     [318 rows x 2 columns]}]},\n  'cn': {'both': [None,\n    {'10':      ValidIndex    Frame_2\n     0             0  22.866915\n     1             1  22.183832\n     2             2  23.112513\n     3             3  25.163299\n     4             4  22.402371\n     ..          ...        ...\n     313         313  22.276531\n     314         314  23.309635\n     315         315  23.760388\n     316         316  21.111358\n     317         317  25.147254\n     \n     [318 rows x 2 columns],\n     '4':      ValidIndex    Frame_2\n     0             0  22.657999\n     1             1  22.259708\n     2             2  23.070348\n     3             3  25.091983\n     4             4  22.026589\n     ..          ...        ...\n     313         313  22.111276\n     314         314  23.636875\n     315         315  23.942930\n     316         316  21.040475\n     317         317  24.950860\n     \n     [318 rows x 2 columns],\n     '6':      ValidIndex    Frame_2\n     0             0  22.887701\n     1             1  22.206304\n     2             2  22.921740\n     3             3  24.876062\n     4             4  21.815051\n     ..          ...        ...\n     313         313  22.336788\n     314         314  23.518103\n     315         315  23.753711\n     316         316  21.268378\n     317         317  25.102241\n     \n     [318 rows x 2 columns],\n     '8':      ValidIndex    Frame_2\n     0             0  22.734568\n     1             1  22.040489\n     2             2  23.034960\n     3             3  25.256832\n     4             4  22.192082\n     ..          ...        ...\n     313         313  22.407986\n     314         314  23.436013\n     315         315  23.686902\n     316         316  21.125979\n     317         317  25.130769\n     \n     [318 rows x 2 columns]}],\n   'latents': [None,\n    {'10':      ValidIndex    Frame_2\n     0             0  24.911560\n     1             1  23.713049\n     2             2  25.217802\n     3             3  29.014207\n     4             4  24.922146\n     ..          ...        ...\n     313         313  25.274742\n     314         314  25.789549\n     315         315  26.107217\n     316         316  23.411114\n     317         317  28.349370\n     \n     [318 rows x 2 columns],\n     '4':      ValidIndex    Frame_2\n     0             0  24.913322\n     1             1  23.679687\n     2             2  25.234634\n     3             3  29.026457\n     4             4  24.871904\n     ..          ...        ...\n     313         313  25.174606\n     314         314  25.865045\n     315         315  26.086587\n     316         316  23.506109\n     317         317  28.240933\n     \n     [318 rows x 2 columns],\n     '6':      ValidIndex    Frame_2\n     0             0  24.976069\n     1             1  23.641472\n     2             2  25.257943\n     3             3  28.892206\n     4             4  24.854613\n     ..          ...        ...\n     313         313  25.205669\n     314         314  25.761242\n     315         315  26.077504\n     316         316  23.399159\n     317         317  28.309963\n     \n     [318 rows x 2 columns],\n     '8':      ValidIndex    Frame_2\n     0             0  24.957749\n     1             1  23.665080\n     2             2  25.160731\n     3             3  28.973196\n     4             4  24.897456\n     ..          ...        ...\n     313         313  25.246509\n     314         314  25.861289\n     315         315  26.134103\n     316         316  23.469308\n     317         317  28.309426\n     \n     [318 rows x 2 columns]}]},\n  'aninterp': [None]},\n 'aot': {'lora': {'both': [{'10':    ValidIndex    Frame_2\n     0           0  23.778455\n     1           1  22.455142\n     2           2  24.131539\n     3           3  30.830315\n     4           4  30.250554\n     5           5  30.772368\n     6           6  30.818052\n     7           7  24.450575\n     8           8  23.998442\n     9           9  23.195075,\n     '8':    ValidIndex    Frame_2\n     0           0  23.762945\n     1           1  22.380850\n     2           2  23.987362\n     3           3  31.010865\n     4           4  30.158133\n     5           5  30.920254\n     6           6  30.856734\n     7           7  24.421161\n     8           8  24.120135\n     9           9  23.338601},\n    {'6':    ValidIndex    Frame_2\n     0           0  23.980375\n     1           1  22.417665\n     2           2  24.295738\n     3           3  31.112474\n     4           4  30.426739\n     5           5  31.087617\n     6           6  31.224117\n     7           7  24.458189\n     8           8  24.190773\n     9           9  23.307594,\n     '10':    ValidIndex    Frame_2\n     0           0  23.628842\n     1           1  22.485171\n     2           2  24.240283\n     3           3  30.838350\n     4           4  30.307296\n     5           5  30.943205\n     6           6  30.650640\n     7           7  24.448665\n     8           8  23.872027\n     9           9  23.150396,\n     '4':    ValidIndex    Frame_2\n     0           0  23.815060\n     1           1  22.319283\n     2           2  24.174728\n     3           3  31.184228\n     4           4  30.418383\n     5           5  30.819834\n     6           6  30.618448\n     7           7  24.497500\n     8           8  24.084746\n     9           9  23.319659,\n     '8':    ValidIndex    Frame_2\n     0           0  23.840607\n     1           1  22.292147\n     2           2  24.361466\n     3           3  31.014069\n     4           4  30.246453\n     5           5  30.702533\n     6           6  30.816792\n     7           7  24.411294\n     8           8  24.100619\n     9           9  23.329086}],\n   'latents': [{'10':    ValidIndex    Frame_2\n     0           0  25.640801\n     1           1  23.950165\n     2           2  26.551360\n     3           3  33.814489\n     4           4  32.752730\n     5           5  33.663154\n     6           6  33.363298\n     7           7  27.043321\n     8           8  26.804821\n     9           9  25.259699,\n     '8':    ValidIndex    Frame_2\n     0           0  25.752788\n     1           1  23.970281\n     2           2  26.713137\n     3           3  34.019748\n     4           4  32.952087\n     5           5  33.797393\n     6           6  33.423371\n     7           7  27.113652\n     8           8  26.913847\n     9           9  25.311259},\n    {'6':    ValidIndex    Frame_2\n     0           0  25.818239\n     1           1  23.992631\n     2           2  26.762344\n     3           3  34.177479\n     4           4  33.161841\n     5           5  34.089907\n     6           6  33.926460\n     7           7  27.273778\n     8           8  26.877595\n     9           9  25.522527,\n     '10':    ValidIndex    Frame_2\n     0           0  25.571109\n     1           1  23.928543\n     2           2  26.546406\n     3           3  33.761063\n     4           4  32.792674\n     5           5  33.633369\n     6           6  33.206116\n     7           7  27.000253\n     8           8  26.874627\n     9           9  25.260572,\n     '4':    ValidIndex    Frame_2\n     0           0  25.727943\n     1           1  23.944677\n     2           2  26.410423\n     3           3  33.933919\n     4           4  32.782165\n     5           5  33.850898\n     6           6  33.618847\n     7           7  27.146076\n     8           8  26.861351\n     9           9  25.233444,\n     '8':    ValidIndex    Frame_2\n     0           0  25.759100\n     1           1  24.003585\n     2           2  26.668120\n     3           3  33.841458\n     4           4  32.947406\n     5           5  33.736945\n     6           6  33.356940\n     7           7  27.202578\n     8           8  26.895083\n     9           9  25.336855}],\n   'result': [{'10':    ValidIndex    Frame_2\n     0           0  23.349406\n     1           1  21.870825\n     2           2  23.975332\n     3           3  30.974356\n     4           4  31.172856\n     5           5  32.165325\n     6           6  31.536823\n     7           7  24.552022\n     8           8  23.861417\n     9           9  23.308395,\n     '8':    ValidIndex    Frame_2\n     0           0  23.337800\n     1           1  21.834123\n     2           2  24.484532\n     3           3  30.812372\n     4           4  31.121836\n     5           5  31.921126\n     6           6  31.278752\n     7           7  24.198645\n     8           8  23.740156\n     9           9  23.436476},\n    {'6':    ValidIndex    Frame_2\n     0           0  23.417109\n     1           1  21.860345\n     2           2  24.205130\n     3           3  31.149270\n     4           4  31.199355\n     5           5  31.996504\n     6           6  31.464986\n     7           7  24.486816\n     8           8  23.869850\n     9           9  23.510037,\n     '10':    ValidIndex    Frame_2\n     0           0  23.391611\n     1           1  21.942614\n     2           2  24.085084\n     3           3  30.976634\n     4           4  31.192588\n     5           5  32.074305\n     6           6  31.473349\n     7           7  24.522304\n     8           8  23.813118\n     9           9  23.430294,\n     '4':    ValidIndex    Frame_2\n     0           0  23.324342\n     1           1  21.779129\n     2           2  24.126718\n     3           3  30.947311\n     4           4  31.025563\n     5           5  31.830488\n     6           6  31.165269\n     7           7  24.419905\n     8           8  24.030794\n     9           9  23.405291,\n     '8':    ValidIndex    Frame_2\n     0           0  23.150177\n     1           1  21.759696\n     2           2  24.141334\n     3           3  31.257214\n     4           4  31.176220\n     5           5  31.927013\n     6           6  31.166963\n     7           7  24.366564\n     8           8  23.786648\n     9           9  23.107121}]},\n  'cn': {'both': [{'6':    ValidIndex    Frame_2\n     0           0  23.106302\n     1           1  21.278459\n     2           2  23.538350\n     3           3  30.073427\n     4           4  29.949945\n     5           5  29.364299\n     6           6  29.528884\n     7           7  23.478340\n     8           8  23.357221\n     9           9  21.888778,\n     '10':    ValidIndex    Frame_2\n     0           0  23.039182\n     1           1  21.397068\n     2           2  23.577003\n     3           3  30.092784\n     4           4  29.355841\n     5           5  29.788690\n     6           6  29.935898\n     7           7  23.383071\n     8           8  23.124401\n     9           9  22.171724,\n     '8':    ValidIndex    Frame_2\n     0           0  23.221979\n     1           1  21.068193\n     2           2  23.779271\n     3           3  29.689715\n     4           4  29.340843\n     5           5  29.541269\n     6           6  29.781024\n     7           7  23.759464\n     8           8  23.160229\n     9           9  21.964875},\n    {'6':    ValidIndex    Frame_2\n     0           0  23.309895\n     1           1  21.190999\n     2           2  23.651256\n     3           3  30.453122\n     4           4  29.732365\n     5           5  29.783271\n     6           6  29.737634\n     7           7  23.596496\n     8           8  23.045065\n     9           9  21.978781,\n     '10':    ValidIndex    Frame_2\n     0           0  23.239445\n     1           1  21.391676\n     2           2  23.493656\n     3           3  29.744796\n     4           4  29.441114\n     5           5  29.692468\n     6           6  29.639862\n     7           7  23.477550\n     8           8  23.076581\n     9           9  22.187193,\n     '4':    ValidIndex    Frame_2\n     0           0  23.222224\n     1           1  21.131765\n     2           2  23.593844\n     3           3  29.660944\n     4           4  29.388461\n     5           5  29.472931\n     6           6  29.601580\n     7           7  23.777718\n     8           8  23.150401\n     9           9  22.051986,\n     '8':    ValidIndex    Frame_2\n     0           0  23.160729\n     1           1  21.040746\n     2           2  23.658615\n     3           3  30.294151\n     4           4  29.415817\n     5           5  29.327312\n     6           6  29.577461\n     7           7  23.979557\n     8           8  23.164113\n     9           9  21.973448}],\n   'latents': [{'6':    ValidIndex    Frame_2\n     0           0  25.336219\n     1           1  23.967155\n     2           2  26.614940\n     3           3  33.888168\n     4           4  31.822314\n     5           5  32.794921\n     6           6  32.880047\n     7           7  26.643946\n     8           8  26.827527\n     9           9  25.072180,\n     '10':    ValidIndex    Frame_2\n     0           0  25.475054\n     1           1  24.051885\n     2           2  26.536181\n     3           3  33.893368\n     4           4  32.004064\n     5           5  32.813676\n     6           6  32.649372\n     7           7  26.853313\n     8           8  26.941742\n     9           9  25.188023,\n     '8':    ValidIndex    Frame_2\n     0           0  25.436498\n     1           1  23.993230\n     2           2  26.541631\n     3           3  33.696758\n     4           4  31.921767\n     5           5  32.572225\n     6           6  32.945687\n     7           7  26.618185\n     8           8  26.802275\n     9           9  25.035063},\n    {'6':    ValidIndex    Frame_2\n     0           0  25.286852\n     1           1  24.020737\n     2           2  26.625799\n     3           3  33.792971\n     4           4  31.887145\n     5           5  32.829152\n     6           6  32.844969\n     7           7  26.687015\n     8           8  26.772246\n     9           9  25.112869,\n     '10':    ValidIndex    Frame_2\n     0           0  25.448548\n     1           1  24.050752\n     2           2  26.636354\n     3           3  33.921726\n     4           4  32.016145\n     5           5  32.870144\n     6           6  32.910575\n     7           7  26.856757\n     8           8  26.960057\n     9           9  25.164523,\n     '4':    ValidIndex    Frame_2\n     0           0  25.545706\n     1           1  23.886522\n     2           2  26.540451\n     3           3  33.466478\n     4           4  31.739754\n     5           5  32.381766\n     6           6  32.556559\n     7           7  26.762262\n     8           8  26.964456\n     9           9  25.115014,\n     '8':    ValidIndex    Frame_2\n     0           0  25.453099\n     1           1  23.993058\n     2           2  26.568997\n     3           3  33.748277\n     4           4  31.861114\n     5           5  32.676237\n     6           6  32.665909\n     7           7  26.710186\n     8           8  26.844099\n     9           9  25.100955}]},\n  'aninterp': [None]},\n 'lk': {'lora': {'both': [{'6':      ValidIndex    Frame_2\n     0             0  27.817731\n     1             1  21.881260\n     2             2  27.376915\n     3             3  27.319132\n     4             4  27.642579\n     ..          ...        ...\n     227         227  27.824891\n     228         228  29.418190\n     229         229  31.734526\n     230         230  26.989079\n     231         231  26.428253\n     \n     [232 rows x 2 columns]},\n    {'10':      ValidIndex    Frame_2\n     0             0  27.733065\n     1             1  21.837033\n     2             2  27.502424\n     3             3  27.306173\n     4             4  27.505963\n     ..          ...        ...\n     227         227  28.083155\n     228         228  29.887786\n     229         229  31.506056\n     230         230  26.753157\n     231         231  26.490836\n     \n     [232 rows x 2 columns],\n     '8':      ValidIndex    Frame_2\n     0             0  27.764115\n     1             1  21.873562\n     2             2  27.580345\n     3             3  27.372421\n     4             4  27.746246\n     ..          ...        ...\n     227         227  28.071544\n     228         228  29.115704\n     229         229  31.945499\n     230         230  26.902502\n     231         231  26.347212\n     \n     [232 rows x 2 columns],\n     '4':      ValidIndex    Frame_2\n     0             0  27.526074\n     1             1  21.682773\n     2             2  26.882653\n     3             3  26.060831\n     4             4  28.192012\n     ..          ...        ...\n     227         227  27.736424\n     228         228  29.808087\n     229         229  30.345481\n     230         230  27.008405\n     231         231  25.700571\n     \n     [232 rows x 2 columns],\n     '6':      ValidIndex    Frame_2\n     0             0  27.503199\n     1             1  21.911756\n     2             2  27.545035\n     3             3  27.211304\n     4             4  27.464828\n     ..          ...        ...\n     227         227  28.019008\n     228         228  29.371373\n     229         229  32.000071\n     230         230  26.912712\n     231         231  26.633060\n     \n     [232 rows x 2 columns]}],\n   'latents': [None,\n    {'10':      ValidIndex    Frame_2\n     0             0  30.835797\n     1             1  22.481435\n     2             2  29.343773\n     3             3  29.069335\n     4             4  31.180484\n     ..          ...        ...\n     227         227  30.749297\n     228         228  31.583362\n     229         229  33.060025\n     230         230  28.308185\n     231         231  29.294951\n     \n     [232 rows x 2 columns],\n     '8':      ValidIndex    Frame_2\n     0             0  30.858285\n     1             1  22.487666\n     2             2  29.321860\n     3             3  29.106943\n     4             4  31.304993\n     ..          ...        ...\n     227         227  30.782034\n     228         228  31.394665\n     229         229  33.200715\n     230         230  28.392550\n     231         231  29.253427\n     \n     [232 rows x 2 columns],\n     '4':      ValidIndex    Frame_2\n     0             0  30.791074\n     1             1  22.491648\n     2             2  29.464027\n     3             3  29.032376\n     4             4  31.341772\n     ..          ...        ...\n     227         227  30.837039\n     228         228  31.642561\n     229         229  33.203725\n     230         230  28.421818\n     231         231  29.294508\n     \n     [232 rows x 2 columns],\n     '6':      ValidIndex    Frame_2\n     0             0  30.778534\n     1             1  22.486954\n     2             2  29.491727\n     3             3  29.129568\n     4             4  31.335360\n     ..          ...        ...\n     227         227  30.774853\n     228         228  31.392948\n     229         229  33.097688\n     230         230  28.315991\n     231         231  29.321987\n     \n     [232 rows x 2 columns]}],\n   'result': [None,\n    {'10':      ValidIndex    Frame_2\n     0             0  28.206365\n     1             1  21.748582\n     2             2  27.519837\n     3             3  27.236097\n     4             4  27.976044\n     ..          ...        ...\n     227         227  27.963907\n     228         228  30.142834\n     229         229  31.574145\n     230         230  26.954851\n     231         231  26.390908\n     \n     [232 rows x 2 columns],\n     '8':      ValidIndex    Frame_2\n     0             0  27.986400\n     1             1  21.778114\n     2             2  27.399651\n     3             3  27.061979\n     4             4  27.922378\n     ..          ...        ...\n     227         227  27.856123\n     228         228  29.994089\n     229         229  31.709268\n     230         230  26.919339\n     231         231  26.431255\n     \n     [232 rows x 2 columns],\n     '4':      ValidIndex    Frame_2\n     0             0  27.632194\n     1             1  21.833435\n     2             2  27.268423\n     3             3  27.078838\n     4             4  27.912804\n     ..          ...        ...\n     227         227  27.928806\n     228         228  30.009147\n     229         229  31.344286\n     230         230  26.900913\n     231         231  26.555499\n     \n     [232 rows x 2 columns],\n     '6':      ValidIndex    Frame_2\n     0             0  28.004375\n     1             1  21.756792\n     2             2  27.447116\n     3             3  27.053576\n     4             4  27.816215\n     ..          ...        ...\n     227         227  27.789592\n     228         228  30.128247\n     229         229  31.513545\n     230         230  26.828495\n     231         231  26.177932\n     \n     [232 rows x 2 columns]}]},\n  'cn': {'both': [None,\n    {'10':      ValidIndex    Frame_2\n     0             0  25.513856\n     1             1  20.825095\n     2             2  25.308046\n     3             3  25.218866\n     4             4  26.463637\n     ..          ...        ...\n     227         227  26.521029\n     228         228  27.928901\n     229         229  30.389532\n     230         230  25.760327\n     231         231  24.375354\n     \n     [232 rows x 2 columns],\n     '4':      ValidIndex    Frame_2\n     0             0  25.747227\n     1             1  20.704971\n     2             2  25.003540\n     3             3  24.886685\n     4             4  26.363156\n     ..          ...        ...\n     227         227  26.626666\n     228         228  28.196479\n     229         229  30.727389\n     230         230  25.716542\n     231         231  24.676539\n     \n     [232 rows x 2 columns],\n     '6':      ValidIndex    Frame_2\n     0             0  25.723497\n     1             1  20.751891\n     2             2  24.736558\n     3             3  25.297293\n     4             4  26.254552\n     ..          ...        ...\n     227         227  26.757844\n     228         228  28.182193\n     229         229  30.333214\n     230         230  26.018133\n     231         231  24.375600\n     \n     [232 rows x 2 columns]}],\n   'latents': [None,\n    {'10':      ValidIndex    Frame_2\n     0             0  28.837236\n     1             1  22.037708\n     2             2  27.037557\n     3             3  27.884476\n     4             4  29.946767\n     ..          ...        ...\n     227         227  29.737649\n     228         228  29.617695\n     229         229  32.018663\n     230         230  28.467394\n     231         231  28.014664\n     \n     [232 rows x 2 columns],\n     '4':      ValidIndex    Frame_2\n     0             0  29.003184\n     1             1  22.056619\n     2             2  27.027470\n     3             3  27.912081\n     4             4  29.962435\n     ..          ...        ...\n     227         227  29.514844\n     228         228  29.483442\n     229         229  32.098160\n     230         230  28.563588\n     231         231  27.964064\n     \n     [232 rows x 2 columns],\n     '6':      ValidIndex    Frame_2\n     0             0  28.963097\n     1             1  22.027856\n     2             2  26.995519\n     3             3  27.869579\n     4             4  29.909702\n     ..          ...        ...\n     227         227  29.496891\n     228         228  29.428377\n     229         229  31.941138\n     230         230  28.634262\n     231         231  27.707288\n     \n     [232 rows x 2 columns]}]},\n  'aninterp': [None]},\n 'sat': {'lora': {'both': [None, None],\n   'latents': [None, None],\n   'result': [None, None]},\n  'cn': {'both': [None, None], 'latents': [None, None]},\n  'aninterp': [None]},\n 'up': {'lora': {'both': [None, None],\n   'latents': [None, None],\n   'result': [None, None]},\n  'cn': {'both': [None, None], 'latents': [None, None]},\n  'aninterp': [None]}}"
     },
     "execution_count": 39,
     "metadata": {},
     "output_type": "execute_result"
    }
   ],
   "source": [
    "dic"
   ],
   "metadata": {
    "collapsed": false,
    "ExecuteTime": {
     "end_time": "2024-09-03T14:17:37.235184451Z",
     "start_time": "2024-09-03T14:17:37.110989651Z"
    }
   },
   "id": "c8f696e5017f7062"
  },
  {
   "cell_type": "code",
   "execution_count": 29,
   "outputs": [],
   "source": [
    "ckpt_idx = ckpts[2300]\n",
    "\n",
    "def plot_loss_models(dic):\n",
    "    models_df_dict = {}\n",
    "    for movie_title in dic:\n",
    "        movie = dic[movie_title]\n",
    "        for model_name in movie:\n",
    "            dfs = []\n",
    "            if model_name in [ 'lora', 'cn' ]:\n",
    "                for objective in movie[model_name]:\n",
    "                    model = movie[model_name][objective]\n",
    "                    for _, df in model.items():\n",
    "                        dfs.append(df)\n",
    "            \n",
    "            model_df = pd.concat(dfs)\n",
    "                        \n",
    "            \n",
    "        \n",
    "        "
   ],
   "metadata": {
    "collapsed": false,
    "ExecuteTime": {
     "end_time": "2024-08-28T16:15:46.152493459Z",
     "start_time": "2024-08-28T16:15:46.107265243Z"
    }
   },
   "id": "b9c9bc23ede64bf4"
  },
  {
   "cell_type": "code",
   "execution_count": 30,
   "outputs": [
    {
     "ename": "ValueError",
     "evalue": "2",
     "output_type": "error",
     "traceback": [
      "\u001B[0;31m---------------------------------------------------------------------------\u001B[0m",
      "\u001B[0;31mValueError\u001B[0m                                Traceback (most recent call last)",
      "Cell \u001B[0;32mIn[30], line 1\u001B[0m\n\u001B[0;32m----> 1\u001B[0m \u001B[43mdict_to_dataframe\u001B[49m\u001B[43m(\u001B[49m\u001B[43mdic\u001B[49m\u001B[43m)\u001B[49m\n",
      "Cell \u001B[0;32mIn[29], line 3\u001B[0m, in \u001B[0;36mdict_to_dataframe\u001B[0;34m(d)\u001B[0m\n\u001B[1;32m      1\u001B[0m \u001B[38;5;28;01mdef\u001B[39;00m \u001B[38;5;21mdict_to_dataframe\u001B[39m(d):\n\u001B[1;32m      2\u001B[0m     \u001B[38;5;28;01mif\u001B[39;00m \u001B[38;5;28misinstance\u001B[39m(d, \u001B[38;5;28mdict\u001B[39m):\n\u001B[0;32m----> 3\u001B[0m         \u001B[38;5;28;01mreturn\u001B[39;00m pd\u001B[38;5;241m.\u001B[39mDataFrame({k: dict_to_dataframe(v) \u001B[38;5;28;01mfor\u001B[39;00m k, v \u001B[38;5;129;01min\u001B[39;00m d\u001B[38;5;241m.\u001B[39mitems()})\n\u001B[1;32m      4\u001B[0m     \u001B[38;5;28;01melif\u001B[39;00m \u001B[38;5;28misinstance\u001B[39m(d, \u001B[38;5;28mlist\u001B[39m):\n\u001B[1;32m      5\u001B[0m         \u001B[38;5;28;01mreturn\u001B[39;00m pd\u001B[38;5;241m.\u001B[39mSeries(d)\n",
      "Cell \u001B[0;32mIn[29], line 3\u001B[0m, in \u001B[0;36m<dictcomp>\u001B[0;34m(.0)\u001B[0m\n\u001B[1;32m      1\u001B[0m \u001B[38;5;28;01mdef\u001B[39;00m \u001B[38;5;21mdict_to_dataframe\u001B[39m(d):\n\u001B[1;32m      2\u001B[0m     \u001B[38;5;28;01mif\u001B[39;00m \u001B[38;5;28misinstance\u001B[39m(d, \u001B[38;5;28mdict\u001B[39m):\n\u001B[0;32m----> 3\u001B[0m         \u001B[38;5;28;01mreturn\u001B[39;00m pd\u001B[38;5;241m.\u001B[39mDataFrame({k: \u001B[43mdict_to_dataframe\u001B[49m\u001B[43m(\u001B[49m\u001B[43mv\u001B[49m\u001B[43m)\u001B[49m \u001B[38;5;28;01mfor\u001B[39;00m k, v \u001B[38;5;129;01min\u001B[39;00m d\u001B[38;5;241m.\u001B[39mitems()})\n\u001B[1;32m      4\u001B[0m     \u001B[38;5;28;01melif\u001B[39;00m \u001B[38;5;28misinstance\u001B[39m(d, \u001B[38;5;28mlist\u001B[39m):\n\u001B[1;32m      5\u001B[0m         \u001B[38;5;28;01mreturn\u001B[39;00m pd\u001B[38;5;241m.\u001B[39mSeries(d)\n",
      "Cell \u001B[0;32mIn[29], line 3\u001B[0m, in \u001B[0;36mdict_to_dataframe\u001B[0;34m(d)\u001B[0m\n\u001B[1;32m      1\u001B[0m \u001B[38;5;28;01mdef\u001B[39;00m \u001B[38;5;21mdict_to_dataframe\u001B[39m(d):\n\u001B[1;32m      2\u001B[0m     \u001B[38;5;28;01mif\u001B[39;00m \u001B[38;5;28misinstance\u001B[39m(d, \u001B[38;5;28mdict\u001B[39m):\n\u001B[0;32m----> 3\u001B[0m         \u001B[38;5;28;01mreturn\u001B[39;00m \u001B[43mpd\u001B[49m\u001B[38;5;241;43m.\u001B[39;49m\u001B[43mDataFrame\u001B[49m\u001B[43m(\u001B[49m\u001B[43m{\u001B[49m\u001B[43mk\u001B[49m\u001B[43m:\u001B[49m\u001B[43m \u001B[49m\u001B[43mdict_to_dataframe\u001B[49m\u001B[43m(\u001B[49m\u001B[43mv\u001B[49m\u001B[43m)\u001B[49m\u001B[43m \u001B[49m\u001B[38;5;28;43;01mfor\u001B[39;49;00m\u001B[43m \u001B[49m\u001B[43mk\u001B[49m\u001B[43m,\u001B[49m\u001B[43m \u001B[49m\u001B[43mv\u001B[49m\u001B[43m \u001B[49m\u001B[38;5;129;43;01min\u001B[39;49;00m\u001B[43m \u001B[49m\u001B[43md\u001B[49m\u001B[38;5;241;43m.\u001B[39;49m\u001B[43mitems\u001B[49m\u001B[43m(\u001B[49m\u001B[43m)\u001B[49m\u001B[43m}\u001B[49m\u001B[43m)\u001B[49m\n\u001B[1;32m      4\u001B[0m     \u001B[38;5;28;01melif\u001B[39;00m \u001B[38;5;28misinstance\u001B[39m(d, \u001B[38;5;28mlist\u001B[39m):\n\u001B[1;32m      5\u001B[0m         \u001B[38;5;28;01mreturn\u001B[39;00m pd\u001B[38;5;241m.\u001B[39mSeries(d)\n",
      "File \u001B[0;32m/cs/labs/danix/nadav_al/AnimeInterp/venv3/lib/python3.9/site-packages/pandas/core/frame.py:778\u001B[0m, in \u001B[0;36mDataFrame.__init__\u001B[0;34m(self, data, index, columns, dtype, copy)\u001B[0m\n\u001B[1;32m    772\u001B[0m     mgr \u001B[38;5;241m=\u001B[39m \u001B[38;5;28mself\u001B[39m\u001B[38;5;241m.\u001B[39m_init_mgr(\n\u001B[1;32m    773\u001B[0m         data, axes\u001B[38;5;241m=\u001B[39m{\u001B[38;5;124m\"\u001B[39m\u001B[38;5;124mindex\u001B[39m\u001B[38;5;124m\"\u001B[39m: index, \u001B[38;5;124m\"\u001B[39m\u001B[38;5;124mcolumns\u001B[39m\u001B[38;5;124m\"\u001B[39m: columns}, dtype\u001B[38;5;241m=\u001B[39mdtype, copy\u001B[38;5;241m=\u001B[39mcopy\n\u001B[1;32m    774\u001B[0m     )\n\u001B[1;32m    776\u001B[0m \u001B[38;5;28;01melif\u001B[39;00m \u001B[38;5;28misinstance\u001B[39m(data, \u001B[38;5;28mdict\u001B[39m):\n\u001B[1;32m    777\u001B[0m     \u001B[38;5;66;03m# GH#38939 de facto copy defaults to False only in non-dict cases\u001B[39;00m\n\u001B[0;32m--> 778\u001B[0m     mgr \u001B[38;5;241m=\u001B[39m \u001B[43mdict_to_mgr\u001B[49m\u001B[43m(\u001B[49m\u001B[43mdata\u001B[49m\u001B[43m,\u001B[49m\u001B[43m \u001B[49m\u001B[43mindex\u001B[49m\u001B[43m,\u001B[49m\u001B[43m \u001B[49m\u001B[43mcolumns\u001B[49m\u001B[43m,\u001B[49m\u001B[43m \u001B[49m\u001B[43mdtype\u001B[49m\u001B[38;5;241;43m=\u001B[39;49m\u001B[43mdtype\u001B[49m\u001B[43m,\u001B[49m\u001B[43m \u001B[49m\u001B[43mcopy\u001B[49m\u001B[38;5;241;43m=\u001B[39;49m\u001B[43mcopy\u001B[49m\u001B[43m,\u001B[49m\u001B[43m \u001B[49m\u001B[43mtyp\u001B[49m\u001B[38;5;241;43m=\u001B[39;49m\u001B[43mmanager\u001B[49m\u001B[43m)\u001B[49m\n\u001B[1;32m    779\u001B[0m \u001B[38;5;28;01melif\u001B[39;00m \u001B[38;5;28misinstance\u001B[39m(data, ma\u001B[38;5;241m.\u001B[39mMaskedArray):\n\u001B[1;32m    780\u001B[0m     \u001B[38;5;28;01mfrom\u001B[39;00m \u001B[38;5;21;01mnumpy\u001B[39;00m\u001B[38;5;21;01m.\u001B[39;00m\u001B[38;5;21;01mma\u001B[39;00m \u001B[38;5;28;01mimport\u001B[39;00m mrecords\n",
      "File \u001B[0;32m/cs/labs/danix/nadav_al/AnimeInterp/venv3/lib/python3.9/site-packages/pandas/core/internals/construction.py:503\u001B[0m, in \u001B[0;36mdict_to_mgr\u001B[0;34m(data, index, columns, dtype, typ, copy)\u001B[0m\n\u001B[1;32m    499\u001B[0m     \u001B[38;5;28;01melse\u001B[39;00m:\n\u001B[1;32m    500\u001B[0m         \u001B[38;5;66;03m# dtype check to exclude e.g. range objects, scalars\u001B[39;00m\n\u001B[1;32m    501\u001B[0m         arrays \u001B[38;5;241m=\u001B[39m [x\u001B[38;5;241m.\u001B[39mcopy() \u001B[38;5;28;01mif\u001B[39;00m \u001B[38;5;28mhasattr\u001B[39m(x, \u001B[38;5;124m\"\u001B[39m\u001B[38;5;124mdtype\u001B[39m\u001B[38;5;124m\"\u001B[39m) \u001B[38;5;28;01melse\u001B[39;00m x \u001B[38;5;28;01mfor\u001B[39;00m x \u001B[38;5;129;01min\u001B[39;00m arrays]\n\u001B[0;32m--> 503\u001B[0m \u001B[38;5;28;01mreturn\u001B[39;00m \u001B[43marrays_to_mgr\u001B[49m\u001B[43m(\u001B[49m\u001B[43marrays\u001B[49m\u001B[43m,\u001B[49m\u001B[43m \u001B[49m\u001B[43mcolumns\u001B[49m\u001B[43m,\u001B[49m\u001B[43m \u001B[49m\u001B[43mindex\u001B[49m\u001B[43m,\u001B[49m\u001B[43m \u001B[49m\u001B[43mdtype\u001B[49m\u001B[38;5;241;43m=\u001B[39;49m\u001B[43mdtype\u001B[49m\u001B[43m,\u001B[49m\u001B[43m \u001B[49m\u001B[43mtyp\u001B[49m\u001B[38;5;241;43m=\u001B[39;49m\u001B[43mtyp\u001B[49m\u001B[43m,\u001B[49m\u001B[43m \u001B[49m\u001B[43mconsolidate\u001B[49m\u001B[38;5;241;43m=\u001B[39;49m\u001B[43mcopy\u001B[49m\u001B[43m)\u001B[49m\n",
      "File \u001B[0;32m/cs/labs/danix/nadav_al/AnimeInterp/venv3/lib/python3.9/site-packages/pandas/core/internals/construction.py:119\u001B[0m, in \u001B[0;36marrays_to_mgr\u001B[0;34m(arrays, columns, index, dtype, verify_integrity, typ, consolidate)\u001B[0m\n\u001B[1;32m    116\u001B[0m         index \u001B[38;5;241m=\u001B[39m ensure_index(index)\n\u001B[1;32m    118\u001B[0m     \u001B[38;5;66;03m# don't force copy because getting jammed in an ndarray anyway\u001B[39;00m\n\u001B[0;32m--> 119\u001B[0m     arrays, refs \u001B[38;5;241m=\u001B[39m \u001B[43m_homogenize\u001B[49m\u001B[43m(\u001B[49m\u001B[43marrays\u001B[49m\u001B[43m,\u001B[49m\u001B[43m \u001B[49m\u001B[43mindex\u001B[49m\u001B[43m,\u001B[49m\u001B[43m \u001B[49m\u001B[43mdtype\u001B[49m\u001B[43m)\u001B[49m\n\u001B[1;32m    120\u001B[0m     \u001B[38;5;66;03m# _homogenize ensures\u001B[39;00m\n\u001B[1;32m    121\u001B[0m     \u001B[38;5;66;03m#  - all(len(x) == len(index) for x in arrays)\u001B[39;00m\n\u001B[1;32m    122\u001B[0m     \u001B[38;5;66;03m#  - all(x.ndim == 1 for x in arrays)\u001B[39;00m\n\u001B[0;32m   (...)\u001B[0m\n\u001B[1;32m    125\u001B[0m \n\u001B[1;32m    126\u001B[0m \u001B[38;5;28;01melse\u001B[39;00m:\n\u001B[1;32m    127\u001B[0m     index \u001B[38;5;241m=\u001B[39m ensure_index(index)\n",
      "File \u001B[0;32m/cs/labs/danix/nadav_al/AnimeInterp/venv3/lib/python3.9/site-packages/pandas/core/internals/construction.py:629\u001B[0m, in \u001B[0;36m_homogenize\u001B[0;34m(data, index, dtype)\u001B[0m\n\u001B[1;32m    626\u001B[0m         val \u001B[38;5;241m=\u001B[39m \u001B[38;5;28mdict\u001B[39m(val)\n\u001B[1;32m    627\u001B[0m     val \u001B[38;5;241m=\u001B[39m lib\u001B[38;5;241m.\u001B[39mfast_multiget(val, oindex\u001B[38;5;241m.\u001B[39m_values, default\u001B[38;5;241m=\u001B[39mnp\u001B[38;5;241m.\u001B[39mnan)\n\u001B[0;32m--> 629\u001B[0m val \u001B[38;5;241m=\u001B[39m \u001B[43msanitize_array\u001B[49m\u001B[43m(\u001B[49m\u001B[43mval\u001B[49m\u001B[43m,\u001B[49m\u001B[43m \u001B[49m\u001B[43mindex\u001B[49m\u001B[43m,\u001B[49m\u001B[43m \u001B[49m\u001B[43mdtype\u001B[49m\u001B[38;5;241;43m=\u001B[39;49m\u001B[43mdtype\u001B[49m\u001B[43m,\u001B[49m\u001B[43m \u001B[49m\u001B[43mcopy\u001B[49m\u001B[38;5;241;43m=\u001B[39;49m\u001B[38;5;28;43;01mFalse\u001B[39;49;00m\u001B[43m)\u001B[49m\n\u001B[1;32m    630\u001B[0m com\u001B[38;5;241m.\u001B[39mrequire_length_match(val, index)\n\u001B[1;32m    631\u001B[0m refs\u001B[38;5;241m.\u001B[39mappend(\u001B[38;5;28;01mNone\u001B[39;00m)\n",
      "File \u001B[0;32m/cs/labs/danix/nadav_al/AnimeInterp/venv3/lib/python3.9/site-packages/pandas/core/construction.py:633\u001B[0m, in \u001B[0;36msanitize_array\u001B[0;34m(data, index, dtype, copy, allow_2d)\u001B[0m\n\u001B[1;32m    631\u001B[0m     \u001B[38;5;28;01melse\u001B[39;00m:\n\u001B[1;32m    632\u001B[0m         data \u001B[38;5;241m=\u001B[39m np\u001B[38;5;241m.\u001B[39marray(data, copy\u001B[38;5;241m=\u001B[39mcopy)\n\u001B[0;32m--> 633\u001B[0m     \u001B[38;5;28;01mreturn\u001B[39;00m \u001B[43msanitize_array\u001B[49m\u001B[43m(\u001B[49m\n\u001B[1;32m    634\u001B[0m \u001B[43m        \u001B[49m\u001B[43mdata\u001B[49m\u001B[43m,\u001B[49m\n\u001B[1;32m    635\u001B[0m \u001B[43m        \u001B[49m\u001B[43mindex\u001B[49m\u001B[38;5;241;43m=\u001B[39;49m\u001B[43mindex\u001B[49m\u001B[43m,\u001B[49m\n\u001B[1;32m    636\u001B[0m \u001B[43m        \u001B[49m\u001B[43mdtype\u001B[49m\u001B[38;5;241;43m=\u001B[39;49m\u001B[43mdtype\u001B[49m\u001B[43m,\u001B[49m\n\u001B[1;32m    637\u001B[0m \u001B[43m        \u001B[49m\u001B[43mcopy\u001B[49m\u001B[38;5;241;43m=\u001B[39;49m\u001B[38;5;28;43;01mFalse\u001B[39;49;00m\u001B[43m,\u001B[49m\n\u001B[1;32m    638\u001B[0m \u001B[43m        \u001B[49m\u001B[43mallow_2d\u001B[49m\u001B[38;5;241;43m=\u001B[39;49m\u001B[43mallow_2d\u001B[49m\u001B[43m,\u001B[49m\n\u001B[1;32m    639\u001B[0m \u001B[43m    \u001B[49m\u001B[43m)\u001B[49m\n\u001B[1;32m    641\u001B[0m \u001B[38;5;28;01melse\u001B[39;00m:\n\u001B[1;32m    642\u001B[0m     _sanitize_non_ordered(data)\n",
      "File \u001B[0;32m/cs/labs/danix/nadav_al/AnimeInterp/venv3/lib/python3.9/site-packages/pandas/core/construction.py:606\u001B[0m, in \u001B[0;36msanitize_array\u001B[0;34m(data, index, dtype, copy, allow_2d)\u001B[0m\n\u001B[1;32m    604\u001B[0m subarr \u001B[38;5;241m=\u001B[39m data\n\u001B[1;32m    605\u001B[0m \u001B[38;5;28;01mif\u001B[39;00m data\u001B[38;5;241m.\u001B[39mdtype \u001B[38;5;241m==\u001B[39m \u001B[38;5;28mobject\u001B[39m:\n\u001B[0;32m--> 606\u001B[0m     subarr \u001B[38;5;241m=\u001B[39m \u001B[43mmaybe_infer_to_datetimelike\u001B[49m\u001B[43m(\u001B[49m\u001B[43mdata\u001B[49m\u001B[43m)\u001B[49m\n\u001B[1;32m    607\u001B[0m     \u001B[38;5;28;01mif\u001B[39;00m (\n\u001B[1;32m    608\u001B[0m         object_index\n\u001B[1;32m    609\u001B[0m         \u001B[38;5;129;01mand\u001B[39;00m using_pyarrow_string_dtype()\n\u001B[1;32m    610\u001B[0m         \u001B[38;5;129;01mand\u001B[39;00m is_string_dtype(subarr)\n\u001B[1;32m    611\u001B[0m     ):\n\u001B[1;32m    612\u001B[0m         \u001B[38;5;66;03m# Avoid inference when string option is set\u001B[39;00m\n\u001B[1;32m    613\u001B[0m         subarr \u001B[38;5;241m=\u001B[39m data\n",
      "File \u001B[0;32m/cs/labs/danix/nadav_al/AnimeInterp/venv3/lib/python3.9/site-packages/pandas/core/dtypes/cast.py:1182\u001B[0m, in \u001B[0;36mmaybe_infer_to_datetimelike\u001B[0;34m(value)\u001B[0m\n\u001B[1;32m   1179\u001B[0m     \u001B[38;5;28;01mraise\u001B[39;00m \u001B[38;5;167;01mTypeError\u001B[39;00m(\u001B[38;5;28mtype\u001B[39m(value))  \u001B[38;5;66;03m# pragma: no cover\u001B[39;00m\n\u001B[1;32m   1180\u001B[0m \u001B[38;5;28;01mif\u001B[39;00m value\u001B[38;5;241m.\u001B[39mndim \u001B[38;5;241m!=\u001B[39m \u001B[38;5;241m1\u001B[39m:\n\u001B[1;32m   1181\u001B[0m     \u001B[38;5;66;03m# Caller is responsible\u001B[39;00m\n\u001B[0;32m-> 1182\u001B[0m     \u001B[38;5;28;01mraise\u001B[39;00m \u001B[38;5;167;01mValueError\u001B[39;00m(value\u001B[38;5;241m.\u001B[39mndim)  \u001B[38;5;66;03m# pragma: no cover\u001B[39;00m\n\u001B[1;32m   1184\u001B[0m \u001B[38;5;28;01mif\u001B[39;00m \u001B[38;5;129;01mnot\u001B[39;00m \u001B[38;5;28mlen\u001B[39m(value):\n\u001B[1;32m   1185\u001B[0m     \u001B[38;5;28;01mreturn\u001B[39;00m value\n",
      "\u001B[0;31mValueError\u001B[0m: 2"
     ]
    }
   ],
   "source": [
    "dict_to_dataframe(dic)"
   ],
   "metadata": {
    "collapsed": false,
    "ExecuteTime": {
     "end_time": "2024-08-28T16:16:01.337338324Z",
     "start_time": "2024-08-28T16:16:00.671073724Z"
    }
   },
   "id": "813fc707c2519fcf"
  }
 ],
 "metadata": {
  "kernelspec": {
   "display_name": "Python 3",
   "language": "python",
   "name": "python3"
  },
  "language_info": {
   "codemirror_mode": {
    "name": "ipython",
    "version": 2
   },
   "file_extension": ".py",
   "mimetype": "text/x-python",
   "name": "python",
   "nbconvert_exporter": "python",
   "pygments_lexer": "ipython2",
   "version": "2.7.6"
  }
 },
 "nbformat": 4,
 "nbformat_minor": 5
}
